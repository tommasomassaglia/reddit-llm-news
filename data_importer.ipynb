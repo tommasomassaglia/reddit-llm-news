{
 "cells": [
  {
   "cell_type": "code",
   "execution_count": 1,
   "metadata": {},
   "outputs": [],
   "source": [
    "import praw, json, pprint\n",
    "from datetime import datetime\n",
    "from dateutil import tz\n",
    "from pydantic import BaseModel\n",
    "from typing import List"
   ]
  },
  {
   "cell_type": "code",
   "execution_count": 2,
   "metadata": {},
   "outputs": [],
   "source": [
    "credentials = json.load(open(\"credentials.json\"))\n",
    "reddit =  praw.Reddit(\n",
    "    client_id = credentials[\"client_id\"],\n",
    "    client_secret = credentials[\"client_secret\"],\n",
    "    user_agent = credentials[\"user_agent\"],\n",
    "    )"
   ]
  },
  {
   "cell_type": "code",
   "execution_count": 3,
   "metadata": {},
   "outputs": [],
   "source": [
    "submissions = [] "
   ]
  },
  {
   "cell_type": "code",
   "execution_count": 4,
   "metadata": {},
   "outputs": [],
   "source": [
    "for submission in reddit.subreddit('StableDiffusion+LocalLLaMA+singularity+ArtificialInteligence+MachineLearning').top(time_filter=\"week\", limit=500):\n",
    "    submissions.append(submission)"
   ]
  },
  {
   "cell_type": "code",
   "execution_count": 5,
   "metadata": {},
   "outputs": [],
   "source": [
    "class Comment(BaseModel):\n",
    "    body: str\n",
    "\n",
    "class Post(BaseModel):\n",
    "    date: str\n",
    "    title: str\n",
    "    body: str\n",
    "    upvote_ratio: float\n",
    "    subreddit: str\n",
    "    num_comments: int\n",
    "    submission_flair: str\n",
    "    has_media: bool\n",
    "    url: str\n",
    "    comments: List[Comment]\n",
    "    \n",
    "class PostCollection(BaseModel):\n",
    "    posts: List[Post] = []\n",
    "    \n",
    "postcollection = PostCollection()"
   ]
  },
  {
   "cell_type": "code",
   "execution_count": 7,
   "metadata": {},
   "outputs": [],
   "source": [
    "for submission in submissions:\n",
    "    if not submission.link_flair_text in ['meme', 'Meme', 'funny', 'Funny']:\n",
    "        comments = [Comment(body=el.body) for el in submission.comments.list()[:5]]\n",
    "        post = Post(\n",
    "            date = datetime.fromtimestamp(submission.created).strftime('%d-%m-%Y'),\n",
    "            title = submission.title,\n",
    "            body = submission.selftext,\n",
    "            upvote_ratio = submission.upvote_ratio,\n",
    "            subreddit = submission.subreddit.display_name,\n",
    "            num_comments = submission.num_comments,\n",
    "            url = submission.url,\n",
    "            submission_flair = str(submission.link_flair_text),\n",
    "            has_media = 'preview' in vars(submission) or submission.is_video or 'media_metadata' in vars(submission),\n",
    "            comments = comments\n",
    "        )\n",
    "        \n",
    "    postcollection.posts.append(post)"
   ]
  },
  {
   "cell_type": "code",
   "execution_count": 8,
   "metadata": {},
   "outputs": [],
   "source": [
    "postcollection_json = json.loads(postcollection.model_dump_json())"
   ]
  },
  {
   "cell_type": "code",
   "execution_count": 9,
   "metadata": {},
   "outputs": [],
   "source": [
    "with open('data.json', 'w', encoding='utf-8') as f:\n",
    "    json.dump(postcollection_json, f, ensure_ascii=False, indent=4)"
   ]
  }
 ],
 "metadata": {
  "kernelspec": {
   "display_name": ".venv",
   "language": "python",
   "name": "python3"
  },
  "language_info": {
   "codemirror_mode": {
    "name": "ipython",
    "version": 3
   },
   "file_extension": ".py",
   "mimetype": "text/x-python",
   "name": "python",
   "nbconvert_exporter": "python",
   "pygments_lexer": "ipython3",
   "version": "3.10.6"
  }
 },
 "nbformat": 4,
 "nbformat_minor": 2
}
