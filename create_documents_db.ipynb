{
 "cells": [
  {
   "cell_type": "code",
   "execution_count": 1,
   "metadata": {},
   "outputs": [],
   "source": [
    "from langchain_community.document_loaders import JSONLoader\n",
    "from langchain.embeddings.sentence_transformer import SentenceTransformerEmbeddings\n",
    "from langchain_community.vectorstores import Chroma"
   ]
  },
  {
   "cell_type": "code",
   "execution_count": 2,
   "metadata": {},
   "outputs": [],
   "source": [
    "loader = JSONLoader(\n",
    "    file_path='./data.json',\n",
    "    jq_schema='.posts[]',\n",
    "    text_content=False)\n",
    "\n",
    "data = loader.load()"
   ]
  },
  {
   "cell_type": "code",
   "execution_count": 3,
   "metadata": {},
   "outputs": [
    {
     "name": "stderr",
     "output_type": "stream",
     "text": [
      "f:\\Desktop\\reddit-news-bot\\.venv\\lib\\site-packages\\tqdm\\auto.py:21: TqdmWarning: IProgress not found. Please update jupyter and ipywidgets. See https://ipywidgets.readthedocs.io/en/stable/user_install.html\n",
      "  from .autonotebook import tqdm as notebook_tqdm\n"
     ]
    }
   ],
   "source": [
    "embedding_function = SentenceTransformerEmbeddings(model_name=\"all-MiniLM-L6-v2\")\n",
    "\n",
    "vectorstore = Chroma.from_documents(data, embedding_function, persist_directory=\"./chroma_db\")"
   ]
  },
  {
   "cell_type": "code",
   "execution_count": 4,
   "metadata": {},
   "outputs": [
    {
     "name": "stdout",
     "output_type": "stream",
     "text": [
      "{\"date\": \"18-03-2024\", \"title\": \"Introduction of OMG, a tool for high-quality multi-character image generation\", \"body\": \"\", \"upvote_ratio\": 0.97, \"subreddit\": \"StableDiffusion\", \"num_comments\": 44, \"submission_flair\": \"News\", \"has_media\": true, \"url\": \"https://i.redd.it/hce5xxz093pc1.png\", \"comments\": [{\"body\": \"Well, I guess we can scratch that off the, \\\"AI image generation is useless because it can't...\\\" list.  \\n\\nIt's really surprising the number of people who think problems and limitations can never be solved.  That what they see on any given day is as good as it can ever get.\"}, {\"body\": \"OMG: Occlusion-friendly Personalized Multi-concept Generation In Diffusion Models  \\nFeatures:\\n\\n* using existing ID LoRAs from [civitai.com](http://civitai.com)\\n* combination with ControlNet\\n* Combination with Style LoRAs\\n\\nTech Report: [https://arxiv.org/abs/2403.10983](https://arxiv.org/abs/2403.10983)\\n\\nGithub: [https://github.com/kongzhecn/OMG](https://github.com/kongzhecn/OMG)\\n\\nIntro: [https://www.youtube.com/watch?v=5BI\\\\_a7nTb8Q](https://www.youtube.com/watch?v=5BI_a7nTb8Q)\\n\\nTrailor Demo: [https://www.youtube.com/watch?v=c-dYmPo7rVM](https://www.youtube.com/watch?v=c-dYmPo7rVM)\"}, {\"body\": \"Nice introduction to an image... and links or anything?\"}, {\"body\": \"Oh nice, hopefully soon we\\u2019ll be able to have multiple people all wearing different clothing without all the stuff with BREAK and AND just to get people wearing different clothing like you\\u2019d see irl.\"}, {\"body\": \"Well looks like a more cleaner way to do 2 characters in 1 image with retained data per character.\"}]}\n"
     ]
    }
   ],
   "source": [
    "query = \"Meme\"\n",
    "\n",
    "result = vectorstore.similarity_search(query)\n",
    "\n",
    "print(result[0].page_content)"
   ]
  }
 ],
 "metadata": {
  "kernelspec": {
   "display_name": ".venv",
   "language": "python",
   "name": "python3"
  },
  "language_info": {
   "codemirror_mode": {
    "name": "ipython",
    "version": 3
   },
   "file_extension": ".py",
   "mimetype": "text/x-python",
   "name": "python",
   "nbconvert_exporter": "python",
   "pygments_lexer": "ipython3",
   "version": "3.10.6"
  }
 },
 "nbformat": 4,
 "nbformat_minor": 2
}
